{
 "cells": [
  {
   "attachments": {},
   "cell_type": "markdown",
   "metadata": {},
   "source": [
    "# Group by Practice"
   ]
  },
  {
   "attachments": {},
   "cell_type": "markdown",
   "metadata": {},
   "source": [
    "### Aggregate functions: \n",
    "https://www.sqlite.org/lang_aggfunc.html\n"
   ]
  },
  {
   "attachments": {},
   "cell_type": "markdown",
   "metadata": {},
   "source": [
    "### DB Source: \n",
    "https://pub-f13217639d6446309ebabc652f18d0ad.r2.dev/movies_download.db"
   ]
  },
  {
   "attachments": {},
   "cell_type": "markdown",
   "metadata": {},
   "source": [
    "### 1.1 What is the average rating of each director?"
   ]
  },
  {
   "attachments": {},
   "cell_type": "markdown",
   "metadata": {},
   "source": [
    "```sql\n",
    "select\n",
    "  director,\n",
    "  round(avg(rating),2) as avg_rating\n",
    "from\n",
    "  movies\n",
    "where rating is not null and director is not null\n",
    "group by director\n",
    "order by avg_rating desc;\n",
    "```\n"
   ]
  },
  {
   "attachments": {},
   "cell_type": "markdown",
   "metadata": {},
   "source": [
    "### 1.2 What is the average rating of each director who made more than 5 movies?"
   ]
  },
  {
   "attachments": {},
   "cell_type": "markdown",
   "metadata": {},
   "source": [
    "```sql\n",
    "select -- 4\n",
    "  director,\n",
    "  count(*) as total_movies,\n",
    "  round(avg(rating), 2) as avg_rating\n",
    "from --1\n",
    "  movies\n",
    "where\n",
    "  rating is not null\n",
    "  and director is not null --2\n",
    "group by\n",
    "  director --3\n",
    "having\n",
    "  total_movies > 5 --5\n",
    "order by\n",
    "  avg_rating desc;--6\n",
    "```"
   ]
  },
  {
   "attachments": {},
   "cell_type": "markdown",
   "metadata": {},
   "source": [
    "### 2. How many movies are in each genre?"
   ]
  },
  {
   "attachments": {},
   "cell_type": "markdown",
   "metadata": {},
   "source": [
    "```sql\n",
    "select\n",
    "  genres,\n",
    "  count(*) as genre_count\n",
    "from\n",
    "  movies\n",
    "where\n",
    "  genres is not null\n",
    "group by\n",
    "  genres\n",
    "order by\n",
    "  genre_count desc;\n",
    "```"
   ]
  },
  {
   "attachments": {},
   "cell_type": "markdown",
   "metadata": {},
   "source": [
    "### 3. How many movies have a rating greater than 6? and what rating is the most commn?"
   ]
  },
  {
   "attachments": {},
   "cell_type": "markdown",
   "metadata": {},
   "source": [
    "```sql\n",
    "select\n",
    "  rating,\n",
    "  count(*) as total_movies\n",
    "from\n",
    "  movies\n",
    "where\n",
    "  rating > 6\n",
    "group by\n",
    "  rating\n",
    "order by\n",
    "  total_movies desc;\n",
    "```"
   ]
  },
  {
   "attachments": {},
   "cell_type": "markdown",
   "metadata": {},
   "source": [
    "### 4. Find the number of movies released each year\n"
   ]
  },
  {
   "attachments": {},
   "cell_type": "markdown",
   "metadata": {},
   "source": [
    "```sql\n",
    "select\n",
    "\trelease_date,\n",
    "\tcount(*) as total_movies\n",
    "from\n",
    "  movies\n",
    "where\n",
    "  release_date is not null\n",
    "group by release_date\n",
    "order by total_movies desc;\n",
    "```\n"
   ]
  },
  {
   "attachments": {},
   "cell_type": "markdown",
   "metadata": {},
   "source": [
    "### 5. List the top 10 years with the highest average movie runtime."
   ]
  },
  {
   "attachments": {},
   "cell_type": "markdown",
   "metadata": {},
   "source": [
    "```sql\n",
    "select\n",
    "  release_date,\n",
    "  avg(runtime) as avg_runtime\n",
    "from\n",
    "  movies\n",
    "where\n",
    "  release_date is not null\n",
    "  and runtime is not null\n",
    "group by\n",
    "  release_date\n",
    "order by\n",
    "  avg_runtime desc\n",
    "limit\n",
    "  10;\n",
    "```"
   ]
  },
  {
   "attachments": {},
   "cell_type": "markdown",
   "metadata": {},
   "source": [
    "### 6. Calculcate the average rating for movies released in the 21st century."
   ]
  },
  {
   "attachments": {},
   "cell_type": "markdown",
   "metadata": {},
   "source": [
    "```sql\n",
    "select\n",
    "  round(avg(rating),3) as avg_rating\n",
    "from\n",
    "  movies\n",
    "where\n",
    "  release_date >= 2000;\n",
    "```"
   ]
  },
  {
   "attachments": {},
   "cell_type": "markdown",
   "metadata": {},
   "source": [
    "### 7. Find the director with the highest average movie runtime. // remove outliers, let's say directors who made 3 or more movies"
   ]
  },
  {
   "attachments": {},
   "cell_type": "markdown",
   "metadata": {},
   "source": [
    "```sql\n",
    "select\n",
    "  director,\n",
    "  avg(runtime) as avg_runtime,\n",
    "  count(*) as total_movies\n",
    "from\n",
    "  movies\n",
    "where\n",
    "  director is not null\n",
    "  and runtime is not null\n",
    "group by\n",
    "  director\n",
    "having\n",
    "  total_movies >= 3\n",
    "order by\n",
    "  avg_runtime desc\n",
    "limit\n",
    "  1;\n",
    "```"
   ]
  },
  {
   "attachments": {},
   "cell_type": "markdown",
   "metadata": {},
   "source": [
    "### 8. List the top 5 most prolific directors(those who have directored the most movies). / remove outliers let's say runtime more than 60 min."
   ]
  },
  {
   "attachments": {},
   "cell_type": "markdown",
   "metadata": {},
   "source": [
    "```sql\n",
    "select\n",
    "  director,\n",
    "  count(*) as total_movies\n",
    "from\n",
    "  movies\n",
    "where\n",
    "  director is not null\n",
    "  and runtime is not null\n",
    "  and runtime > 60\n",
    "group by\n",
    "  director\n",
    "order by\n",
    "  total_movies desc\n",
    "limit\n",
    "  5;\n",
    "```"
   ]
  },
  {
   "attachments": {},
   "cell_type": "markdown",
   "metadata": {},
   "source": [
    "### 9. Find the highest and lowest rating of each director"
   ]
  },
  {
   "attachments": {},
   "cell_type": "markdown",
   "metadata": {},
   "source": [
    "```sql\n",
    "select\n",
    "  director,\n",
    "  max(rating) as max_rating,\n",
    "  min(rating) as min_rating,\n",
    "  count(*) as total_movies\n",
    "from\n",
    "  movies\n",
    "where\n",
    "  director is not null\n",
    "  and rating is not null\n",
    "group by\n",
    "  director\n",
    "having total_movies > 5;\n",
    "```"
   ]
  },
  {
   "attachments": {},
   "cell_type": "markdown",
   "metadata": {},
   "source": [
    "### 10. Find the director that has made the most money(revenue - budget)"
   ]
  },
  {
   "attachments": {},
   "cell_type": "markdown",
   "metadata": {},
   "source": [
    "```sql\n",
    "select\n",
    "  director,\n",
    "  sum(revenue) - sum(budget) as profit\n",
    "from\n",
    "  movies\n",
    "where\n",
    "  director is not null\n",
    "  and revenue is not null\n",
    "  and budget is not null\n",
    "group by\n",
    "  director\n",
    "order by profit desc\n",
    "limit 1;\n",
    "```"
   ]
  },
  {
   "attachments": {},
   "cell_type": "markdown",
   "metadata": {},
   "source": [
    "### 11. Calculate the average ratng for movies longer than 2 hours"
   ]
  },
  {
   "attachments": {},
   "cell_type": "markdown",
   "metadata": {},
   "source": [
    "```sql\n",
    "select avg(rating) as avg_rating\n",
    "from movies\n",
    "where rating is not null and runtime is not null and runtime > 120;\n",
    "```"
   ]
  },
  {
   "attachments": {},
   "cell_type": "markdown",
   "metadata": {},
   "source": [
    "### 12. Find the year with the most movies released"
   ]
  },
  {
   "attachments": {},
   "cell_type": "markdown",
   "metadata": {},
   "source": [
    "```sql\n",
    "select\n",
    "  release_date,\n",
    "  count(*) as total_movies\n",
    "from\n",
    "  movies\n",
    "group by\n",
    "  release_date\n",
    "order by\n",
    "  total_movies desc\n",
    "limit\n",
    "  1;\n",
    "```"
   ]
  },
  {
   "attachments": {},
   "cell_type": "markdown",
   "metadata": {},
   "source": [
    "### 13. Find the average runtime of movies for each decade"
   ]
  },
  {
   "attachments": {},
   "cell_type": "markdown",
   "metadata": {},
   "source": [
    "```sql\n",
    "select\n",
    "  (release_date / 10) * 10 as decade, -- sqlite returns integer for integer calculation.\n",
    "  avg(runtime) as avg_runtime\n",
    "from\n",
    "  movies\n",
    "where\n",
    "  release_date is not null\n",
    "  and runtime > 30\n",
    "group by\n",
    "  decade;\n",
    "```\n",
    "\n",
    "### How SQL Handles Computed Columns\n",
    "\n",
    "1. **Pre-Evaluation of Expressions**: When the SQL engine processes the query, it first evaluates the expressions that are needed for grouping. In your query, the expression `(release_date / 10) * 10 AS decade` is needed to define how the data should be grouped.\n",
    "\n",
    "2. **Creating Computed Columns**: The SQL engine computes the `decade` values based on the expression `(release_date / 10) * 10` for each row of the filtered data. This creates a temporary column (or a virtual column) called `decade` that holds these computed values.\n",
    "\n",
    "3. **Grouping by Computed Values**: With the computed `decade` values in place, the `GROUP BY` clause then groups all rows that have the same `decade` value.\n",
    "\n",
    "4. **Aggregation and Selection**: After the rows are grouped, the SQL engine moves to the `SELECT` clause, where it computes aggregate functions like `AVG(runtime)` for each group and prepares the final output.\n"
   ]
  },
  {
   "attachments": {},
   "cell_type": "markdown",
   "metadata": {},
   "source": [
    "### 14. List the top 5 years where the difference between the highest and lowest rated movie was the greatest."
   ]
  },
  {
   "attachments": {},
   "cell_type": "markdown",
   "metadata": {},
   "source": [
    "```sql\n",
    "select\n",
    "  release_date,\n",
    "  max(rating) - min(rating) as rating_gap\n",
    "from\n",
    "  movies\n",
    "where\n",
    "  release_date is not null\n",
    "  and rating between 0 and 10\n",
    "group by\n",
    "  release_date\n",
    "order by rating_gap desc\n",
    "limit 5;\n",
    "```"
   ]
  },
  {
   "attachments": {},
   "cell_type": "markdown",
   "metadata": {},
   "source": [
    "### 15. List directors who have naver made a movie shorter than 2 hours."
   ]
  },
  {
   "attachments": {},
   "cell_type": "markdown",
   "metadata": {},
   "source": [
    "my initial query\n",
    "\n",
    "```sql\n",
    "select\n",
    "  director\n",
    "from\n",
    "  movies\n",
    "where\n",
    "  director is not null\n",
    "  and runtime > 120\n",
    "\n",
    "```\n",
    "Correct answer\n",
    "\n",
    "```sql\n",
    "select\n",
    "  director\n",
    "from\n",
    "  movies\n",
    "group by\n",
    "  director\n",
    "having\n",
    "  min(runtime) > 120;\n",
    "```\n",
    "\n",
    " * The initial one only returns directors who have made `at least one movie longer than 120 minutes`. However, it will not exclude directors who may have also made shorter movies."
   ]
  },
  {
   "attachments": {},
   "cell_type": "markdown",
   "metadata": {},
   "source": [
    "### 16. Calculate the percentage of movies with a rating above 8.0."
   ]
  },
  {
   "attachments": {},
   "cell_type": "markdown",
   "metadata": {},
   "source": [
    "```sql\n",
    "select\n",
    "  count(\n",
    "    case\n",
    "      when rating > 8.0 then 1\n",
    "    end\n",
    "  ) * 100.0 / count(*) as percentage\n",
    "from\n",
    "  movies\n",
    "```"
   ]
  },
  {
   "attachments": {},
   "cell_type": "markdown",
   "metadata": {},
   "source": [
    "### 17. Find the director with the highest ratio of movies rated above 7.0."
   ]
  },
  {
   "attachments": {},
   "cell_type": "markdown",
   "metadata": {},
   "source": [
    "```sql\n",
    "select\n",
    "  director,\n",
    "  count(case when rating > 7.0 then 1.0 end) * 100.0 / count(*) as ratio\n",
    "from movies\n",
    "where director is not null and rating is not null\n",
    "group by director\n",
    "having count(*) >= 5\n",
    "order by ratio desc;\n",
    "```\n"
   ]
  },
  {
   "attachments": {},
   "cell_type": "markdown",
   "metadata": {},
   "source": [
    "### 18. Categorize and group by movies by length(runtime)"
   ]
  },
  {
   "attachments": {},
   "cell_type": "markdown",
   "metadata": {},
   "source": [
    "```sql\n",
    "select\n",
    "  case\n",
    "    when runtime < 60 then 'short'\n",
    "    when runtime between 60 and 120  then 'medium'\n",
    "    else 'long'\n",
    "  end as length,\n",
    "  count(*)\n",
    "from\n",
    "  movies\n",
    "where\n",
    "  runtime is not null\n",
    "group by\n",
    "  length;\n",
    "```"
   ]
  },
  {
   "attachments": {},
   "cell_type": "markdown",
   "metadata": {},
   "source": [
    "### 19. Categorize and group by movies by flop or not.(flop: revenue < budget)"
   ]
  },
  {
   "attachments": {},
   "cell_type": "markdown",
   "metadata": {},
   "source": [
    "```sql\n",
    "select\n",
    "  case\n",
    "    when revenue < budget then 'flop'\n",
    "    else 'not flop'\n",
    "  end as isFlop,\n",
    "  count(*) as  total_movies\n",
    "from movies\n",
    "where revenue is not null and budget is not null\n",
    "group by isFlop;\n",
    "```"
   ]
  }
 ],
 "metadata": {
  "language_info": {
   "name": "python"
  },
  "orig_nbformat": 4
 },
 "nbformat": 4,
 "nbformat_minor": 2
}
