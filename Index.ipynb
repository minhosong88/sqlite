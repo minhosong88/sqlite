{
 "cells": [
  {
   "attachments": {},
   "cell_type": "markdown",
   "metadata": {},
   "source": [
    "# SQL index"
   ]
  },
  {
   "attachments": {},
   "cell_type": "markdown",
   "metadata": {},
   "source": [
    "1. what is index?\n",
    "2. how we use index?\n",
    "3. when to use index or when not to?"
   ]
  },
  {
   "attachments": {},
   "cell_type": "markdown",
   "metadata": {},
   "source": [
    "a table scan is when the database has to scan the data row by row. The cost of a table scan is proportional to the number of rows.\n",
    "\n",
    "index is used to avoid table scans that take enormous time."
   ]
  },
  {
   "attachments": {},
   "cell_type": "markdown",
   "metadata": {},
   "source": [
    "a query planner shows how the database is going to run the query.\n",
    "\n",
    "```sql\n",
    "explain query plan\n",
    "```\n",
    "this is database-specific command so this works for sqlite but not for the other database."
   ]
  },
  {
   "attachments": {},
   "cell_type": "markdown",
   "metadata": {},
   "source": [
    "### Drawbacks of Using Indexes\n",
    "\n",
    "* `Storage Overhead:` Indexes require additional storage space, which can be substantial for large tables or multiple indexes.\n",
    "* `Slower Write Operations:` INSERT, UPDATE, and DELETE operations can be slower because the database must update the index each time the data changes.\n",
    "* `Maintenance Overhead:` Indexes need to be maintained and updated as data is added, modified, or deleted, which can increase database maintenance costs."
   ]
  },
  {
   "attachments": {},
   "cell_type": "markdown",
   "metadata": {},
   "source": [
    "\n",
    "Index is a separate data structure that database uses to look up data quickly.\n",
    "\n",
    "### creating index:\n",
    "```sql\n",
    "select\n",
    "  *\n",
    "from\n",
    "  movies\n",
    "where\n",
    "  director = 'Guy Ritchie';\n",
    "  \n",
    "create index idx_director on movies (director); -- specify a column that you want to create index for.\n",
    "drop index idx_director;\n",
    "```\n",
    "\n",
    "Index may not be always the best for some queries.\n",
    "\n",
    "### B+ Trees\n",
    "\n",
    "why does using index improve the speed of look-up?\n",
    "B+ tree looks like binary search tree(BST) but it is balaced, has more than 2 nodes, and all data are stored in leaf nodes as data and primary key pair.\n",
    "We are looking at leaf nodes. \n",
    "1. **Efficient Disk I/O:** B+ trees are optimized for systems where disk I/O is the bottleneck. They `minimize the number of disk accesses` required to locate data, which is crucial for databases that store large amounts of data on disk.\n",
    "\n",
    "2. **Minimized Tree Height:** By `allowing multiple keys and children per node`, B+ trees reduce the height of the tree, ensuring that searches, insertions, and deletions can be performed quickly.\n",
    "\n",
    "3. **Range Queries:** `B+ trees are particularly good for range queries` (e.g., finding all values between two keys). `Because all leaf nodes are linked`, it's easy to traverse from one leaf to the next without needing to go back up the tree.\n",
    "\n",
    "4. **Balanced Structure:** B+ trees maintain `a balanced structure`, ensuring `consistent performance for all operations. `This balancing is done automatically during insertion and deletion operations, making B+ trees self-balancing."
   ]
  },
  {
   "attachments": {},
   "cell_type": "markdown",
   "metadata": {},
   "source": [
    "indexes and keys\n",
    "\n",
    "In a database, when you create an index, the `index is stored in a B+ tree format`. This structure allows the database to efficiently traverse from the root of the tree to the appropriate `leaf node where the indexed key is stored`. The leaf nodes of the B+ tree contain pointers to the actual data records in the table.\n",
    "\n",
    "* **Data Retrieval:** Once the leaf node is found, it provides `a direct pointer`` to the location of the actual data record`. This means the data can be retrieved in a similarly efficient manner, without the need to perform a full table scan.\n",
    "\n",
    "* In a **clustered index,** `the actual table data is stored in the leaf nodes of the B+ tree itself.` Therefore, searching for data using a clustered index involves traversing the B+ tree and directly reaching the data stored in its leaf nodes.(primary is index for the table)\n",
    "\n",
    "* For **non-clustered indexes**, `the B+ tree stores pointers (references) to the actual rows in the table.` After finding the index entry using the B+ tree, a second step is required to access the actual table data using these pointers.\n",
    "\n",
    "For MySQL, rowid is not default but when the data does not have primary key and unique data column. \n",
    "\n",
    "SQL creates indexes for unique columns if you don't make primary key"
   ]
  },
  {
   "attachments": {},
   "cell_type": "markdown",
   "metadata": {},
   "source": [
    "multi column indexes\n",
    "\n",
    "1. **Order of Columns in Index Matters:**\n",
    "\n",
    "  * The order in which columns are declared in a multi-column index significantly affects how the index is used by the SQL query optimizer.\n",
    "  * The SQL engine can use the index for efficient lookups only if the query's WHERE clause conditions align with the leading (left-most) columns of the index.\n",
    "1. **Index Utilization Stops After a Range Condition:**\n",
    "\n",
    " * When a range condition (like <, >, BETWEEN, or !=) is applied to one of the indexed columns, the use of the index can stop at that column.\n",
    "\n",
    "```sql\n",
    "explain query plan\n",
    "select\n",
    "  title\n",
    "from\n",
    "  movies\n",
    "where\n",
    "  release_date = 2022\n",
    "  and rating = 7\n",
    "  and revenue > 100; -- only revenue is using index.\n",
    "\n",
    "create index idx on movies (revenue, release_date, rating );\n",
    "```\n",
    "To optimize the above query, consider changing the index order if the primary use case involves equality checks on release_date and rating:\n",
    "```sql\n",
    "-- Revised Multi-Column Index\n",
    "CREATE INDEX idx_movies_optimized ON movies (release_date, rating, revenue);\n",
    "```\n",
    "\n",
    "With this revised index:\n",
    "\n",
    "* **release_date = 2022 and rating = 7:** The index can efficiently use both conditions because they are equality conditions on the leading columns.\n",
    "* **revenue > 100:** The range condition now applies to the last column in the index. The index can still be used to filter by revenue after release_date and rating have been used for equality filtering."
   ]
  },
  {
   "cell_type": "markdown",
   "metadata": {},
   "source": []
  }
 ],
 "metadata": {
  "language_info": {
   "name": "python"
  },
  "orig_nbformat": 4
 },
 "nbformat": 4,
 "nbformat_minor": 2
}
